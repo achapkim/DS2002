{
 "cells": [
  {
   "cell_type": "code",
   "execution_count": 2,
   "id": "d7f73131-99ec-43b2-afe9-c09c044aa4fe",
   "metadata": {},
   "outputs": [],
   "source": [
    "import json \n",
    "import requests \n",
    "import pandas\n",
    "from datetime import date"
   ]
  },
  {
   "cell_type": "code",
   "execution_count": 3,
   "id": "9875b2d6-5f7e-45ca-a9b8-5108464fa389",
   "metadata": {},
   "outputs": [
    {
     "name": "stdin",
     "output_type": "stream",
     "text": [
      " MSFT\n"
     ]
    },
    {
     "data": {
      "text/plain": [
       "'MSFT'"
      ]
     },
     "execution_count": 3,
     "metadata": {},
     "output_type": "execute_result"
    }
   ],
   "source": [
    "stock = input()\n",
    "stock "
   ]
  },
  {
   "cell_type": "code",
   "execution_count": 4,
   "id": "7c755c72-f26b-42f0-8d15-82fb37e1f45d",
   "metadata": {},
   "outputs": [],
   "source": [
    "header_var ={\n",
    "    'User-Agent': 'Mozilla/5.0 (Macintosh; Intel Mac OS X 10_10_1) AppleWebKit/537.36 (KHTML, like Gecko) Chrome/39.0.2171.95 Safari/537.36'}\n",
    "\n",
    "urlQuote = \"https://query1.finance.yahoo.com/v7/finance/quote\"\n",
    "querystring = {\"symbols\": stock}\n",
    "response = requests.request(\"GET\",urlQuote, headers=header_var,params=querystring)\n",
    "urlQuote = \"https://query1.finance.yahoo.com/v10/finance/quoteSummary/\"\n",
    "querystring = {\"symbol\": stock, \"modules\": \"financialData\"}\n",
    "financial_response = requests.request(\"GET\",urlQuote, headers=header_var,params=querystring)"
   ]
  },
  {
   "cell_type": "code",
   "execution_count": 5,
   "id": "54c7ec28-3c1c-41ad-9161-fca845ef79fc",
   "metadata": {},
   "outputs": [
    {
     "data": {
      "text/plain": [
       "{'quoteSummary': {'result': [{'financialData': {'maxAge': 86400,\n",
       "     'currentPrice': {'raw': 229.99, 'fmt': '229.99'},\n",
       "     'targetHighPrice': {'raw': 411.0, 'fmt': '411.00'},\n",
       "     'targetLowPrice': {'raw': 275.0, 'fmt': '275.00'},\n",
       "     'targetMeanPrice': {'raw': 329.65, 'fmt': '329.65'},\n",
       "     'targetMedianPrice': {'raw': 327.5, 'fmt': '327.50'},\n",
       "     'recommendationMean': {'raw': 1.7, 'fmt': '1.70'},\n",
       "     'recommendationKey': 'buy',\n",
       "     'numberOfAnalystOpinions': {'raw': 44, 'fmt': '44', 'longFmt': '44'},\n",
       "     'totalCash': {'raw': 104748998656,\n",
       "      'fmt': '104.75B',\n",
       "      'longFmt': '104,748,998,656'},\n",
       "     'totalCashPerShare': {'raw': 14.045, 'fmt': '14.05'},\n",
       "     'ebitda': {'raw': 97982996480,\n",
       "      'fmt': '97.98B',\n",
       "      'longFmt': '97,982,996,480'},\n",
       "     'totalDebt': {'raw': 78399995904,\n",
       "      'fmt': '78.4B',\n",
       "      'longFmt': '78,399,995,904'},\n",
       "     'quickRatio': {'raw': 1.567, 'fmt': '1.57'},\n",
       "     'currentRatio': {'raw': 1.785, 'fmt': '1.78'},\n",
       "     'totalRevenue': {'raw': 198269992960,\n",
       "      'fmt': '198.27B',\n",
       "      'longFmt': '198,269,992,960'},\n",
       "     'debtToEquity': {'raw': 47.075, 'fmt': '47.08'},\n",
       "     'revenuePerShare': {'raw': 26.45, 'fmt': '26.45'},\n",
       "     'returnOnAssets': {'raw': 0.14919, 'fmt': '14.92%'},\n",
       "     'returnOnEquity': {'raw': 0.47151002, 'fmt': '47.15%'},\n",
       "     'grossProfits': {'raw': 135620000000,\n",
       "      'fmt': '135.62B',\n",
       "      'longFmt': '135,620,000,000'},\n",
       "     'freeCashflow': {'raw': 49479000064,\n",
       "      'fmt': '49.48B',\n",
       "      'longFmt': '49,479,000,064'},\n",
       "     'operatingCashflow': {'raw': 89034997760,\n",
       "      'fmt': '89.03B',\n",
       "      'longFmt': '89,034,997,760'},\n",
       "     'earningsGrowth': {'raw': 0.031, 'fmt': '3.10%'},\n",
       "     'revenueGrowth': {'raw': 0.124, 'fmt': '12.40%'},\n",
       "     'grossMargins': {'raw': 0.68402, 'fmt': '68.40%'},\n",
       "     'ebitdaMargins': {'raw': 0.49418998, 'fmt': '49.42%'},\n",
       "     'operatingMargins': {'raw': 0.42055, 'fmt': '42.05%'},\n",
       "     'profitMargins': {'raw': 0.36686, 'fmt': '36.69%'},\n",
       "     'financialCurrency': 'USD'}}],\n",
       "  'error': None}}"
      ]
     },
     "execution_count": 5,
     "metadata": {},
     "output_type": "execute_result"
    }
   ],
   "source": [
    "result = response.json()\n",
    "financial_result = financial_response.json()\n",
    "financial_result"
   ]
  },
  {
   "cell_type": "code",
   "execution_count": 80,
   "id": "03a5a8ce-b5fe-4b41-ad80-4ba29eef7ea5",
   "metadata": {},
   "outputs": [],
   "source": [
    "# Initializing variables for JSON object\n",
    "try:\n",
    "    long_name = result['quoteResponse']['result'][0]['longName']\n",
    "    current_price = financial_result[\"quoteSummary\"][\"result\"][0][\"financialData\"][\"currentPrice\"][\"fmt\"]\n",
    "    target_mean_price = financial_result[\"quoteSummary\"][\"result\"][0][\"financialData\"][\"targetMeanPrice\"][\"fmt\"]\n",
    "    profit_margin = financial_result[\"quoteSummary\"][\"result\"][0][\"financialData\"][\"profitMargins\"][\"fmt\"]\n",
    "    cash_flow = financial_result[\"quoteSummary\"][\"result\"][0][\"financialData\"][\"freeCashflow\"][\"fmt\"]\n",
    "except IndexError:\n",
    "    raise IndexError(\"Stock is not properly defined or server is down. Please input a valid ticker or try again later.\")"
   ]
  },
  {
   "cell_type": "code",
   "execution_count": 81,
   "id": "28f278da-e217-4600-a14a-ed43530b4d75",
   "metadata": {},
   "outputs": [],
   "source": [
    "stock_json = {\n",
    "    \"Query Date\" : str(date.today()),\n",
    "    \"Name Ticker\": stock,\n",
    "    \"Long Name\": long_name,\n",
    "    \"Current Price\":current_price, \n",
    "    \"Target Mean Price\":target_mean_price, \n",
    "    \"Cash on Hand\":cash_flow, \n",
    "    \"Profit Margins\" : profit_margin \n",
    "}\n",
    "\n",
    "# Serializing json\n",
    "json_object = json.dumps(stock_json, indent=7)\n",
    " \n",
    "# Writing to sample.json\n",
    "with open(\"{}_{}.json\".format(stock, date.today()), \"w\") as outfile:\n",
    "    outfile.write(json_object)"
   ]
  },
  {
   "cell_type": "code",
   "execution_count": null,
   "id": "529a55ad-43fa-4ed7-b4d2-76a68309da19",
   "metadata": {},
   "outputs": [],
   "source": [
    "\n"
   ]
  }
 ],
 "metadata": {
  "kernelspec": {
   "display_name": "Python 3 (ipykernel)",
   "language": "python",
   "name": "python3"
  },
  "language_info": {
   "codemirror_mode": {
    "name": "ipython",
    "version": 3
   },
   "file_extension": ".py",
   "mimetype": "text/x-python",
   "name": "python",
   "nbconvert_exporter": "python",
   "pygments_lexer": "ipython3",
   "version": "3.9.7"
  }
 },
 "nbformat": 4,
 "nbformat_minor": 5
}
