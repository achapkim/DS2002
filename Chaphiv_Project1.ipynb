{
 "cells": [
  {
   "cell_type": "code",
   "execution_count": 15,
   "id": "693b836b-b229-46cb-b9c8-ee78c591f385",
   "metadata": {},
   "outputs": [],
   "source": [
    "import pandas as pd \n",
    "import json\n",
    "import requests\n",
    "from datetime import datetime\n",
    "from sqlalchemy import create_engine\n",
    "engine = create_engine('sqlite://', echo=False)"
   ]
  },
  {
   "cell_type": "code",
   "execution_count": 16,
   "id": "eff28ad1-22bd-4ff9-af72-6724c86bf52c",
   "metadata": {},
   "outputs": [
    {
     "name": "stdin",
     "output_type": "stream",
     "text": [
      "Please Specify a File Type (CSV, JSON, SQL):  SQL\n"
     ]
    }
   ],
   "source": [
    "urlQuote = \"https://api.covid19api.com/stats\"\n",
    "file_type = input(\"Please Specify a File Type (CSV, JSON, SQL): \")  ## One can choose what file type to output"
   ]
  },
  {
   "cell_type": "code",
   "execution_count": 17,
   "id": "590f4d57-101f-48e7-87b8-d50b220e1cda",
   "metadata": {},
   "outputs": [],
   "source": [
    "response_boolean = False\n",
    "header_var ={\n",
    "    'User-Agent': 'Mozilla/5.0 (Macintosh; Intel Mac OS X 10_10_1) AppleWebKit/537.36 (KHTML, like Gecko) Chrome/39.0.2171.95 Safari/537.36'}\n",
    "\n",
    "response = requests.request(\"GET\",urlQuote, headers=header_var)\n",
    "\n",
    "if response.status_code == 200: ## Check if we get a response from the system\n",
    "    response_boolean = True "
   ]
  },
  {
   "cell_type": "code",
   "execution_count": 18,
   "id": "5809c300-e67b-4a14-bc3c-42326b305a14",
   "metadata": {},
   "outputs": [],
   "source": [
    "result = response.json()\n",
    "df = pd.DataFrame(result, index = [0])"
   ]
  },
  {
   "cell_type": "code",
   "execution_count": 20,
   "id": "5b082913-0006-4c3e-8f4f-c0623b0f0e4e",
   "metadata": {},
   "outputs": [],
   "source": [
    "if response_boolean == False: \n",
    "    raise ResponseError(\"Server is not available, please try again.\")\n",
    "if response_boolean == True: ## Convert file into specified format\n",
    "    try: \n",
    "        if file_type == \"CSV\":\n",
    "            df.to_csv(\"COVID Stats for {}.csv\".format(datetime.today().strftime('%Y-%m-%d')))\n",
    "        if file_type == \"JSON\":\n",
    "            df.to_json(\"COVID Stats for {}.JSON\".format(datetime.today().strftime('%Y-%m-%d')), orient = \"index\")\n",
    "        if file_type == \"SQL\":\n",
    "            df.to_sql(\"COVID Stats for {}.sql\".format(datetime.today().strftime('%Y-%m-%d')), con = engine, if_exists = \"replace\")\n",
    "    except:\n",
    "        raise ValueError(\"File Type was not specified or not correctly specified. Please input a valid format.\")"
   ]
  },
  {
   "cell_type": "code",
   "execution_count": 21,
   "id": "10805a4c-47d3-4bc4-ac5c-c03f7df44de9",
   "metadata": {},
   "outputs": [
    {
     "name": "stdout",
     "output_type": "stream",
     "text": [
      "Number of Columns: 51\n"
     ]
    }
   ],
   "source": [
    "print(\"Number of Columns:\",df.shape[1]) ## Retrieve number of columns associated with data"
   ]
  },
  {
   "cell_type": "markdown",
   "id": "f6a01357-8f83-474d-b28b-07bbf0061968",
   "metadata": {},
   "source": []
  }
 ],
 "metadata": {
  "kernelspec": {
   "display_name": "Python 3 (ipykernel)",
   "language": "python",
   "name": "python3"
  },
  "language_info": {
   "codemirror_mode": {
    "name": "ipython",
    "version": 3
   },
   "file_extension": ".py",
   "mimetype": "text/x-python",
   "name": "python",
   "nbconvert_exporter": "python",
   "pygments_lexer": "ipython3",
   "version": "3.9.7"
  }
 },
 "nbformat": 4,
 "nbformat_minor": 5
}
