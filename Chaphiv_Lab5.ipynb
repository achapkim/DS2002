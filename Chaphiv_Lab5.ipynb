{
 "cells": [
  {
   "cell_type": "code",
   "execution_count": 7,
   "id": "466c9111-4cd0-49d0-84ab-ee86a44e7e4f",
   "metadata": {},
   "outputs": [],
   "source": [
    "import requests\n",
    "from bs4 import BeautifulSoup\n",
    "import pgeocode\n",
    "import pandas as pd "
   ]
  },
  {
   "cell_type": "code",
   "execution_count": 138,
   "id": "915a4101-cfba-423a-bc29-a4b6556a7540",
   "metadata": {},
   "outputs": [
    {
     "name": "stdin",
     "output_type": "stream",
     "text": [
      "Zip Code:  22015\n"
     ]
    }
   ],
   "source": [
    "zip_code = input(\"Zip Code: \")"
   ]
  },
  {
   "cell_type": "code",
   "execution_count": 139,
   "id": "dd89dde0-e9a8-4b86-b61e-4ac67bff26f0",
   "metadata": {},
   "outputs": [],
   "source": [
    "nomi = pgeocode.Nominatim(\"US\")\n",
    "lat=nomi.query_postal_code(zip_code)[\"latitude\"]\n",
    "long=nomi.query_postal_code(zip_code)[\"longitude\"]"
   ]
  },
  {
   "cell_type": "code",
   "execution_count": 140,
   "id": "58e4d2ed-0904-4259-92a3-407f33eab93b",
   "metadata": {},
   "outputs": [],
   "source": [
    "page = requests.get(\"https://forecast.weather.gov/MapClick.php?lat={}&lon={}\".format(str(lat),str(long)))\n",
    "soup = BeautifulSoup(page.content, \"html.parser\")\n",
    "seven_day = soup.find(id = \"seven-day-forecast\")\n",
    "forecast_items = seven_day.find_all(class_ = \"tombstone-container\")\n"
   ]
  },
  {
   "cell_type": "code",
   "execution_count": 141,
   "id": "eafc5b04-7408-4b65-b97c-64e8acbfaad6",
   "metadata": {},
   "outputs": [
    {
     "data": {
      "text/plain": [
       "['Tonight',\n",
       " 'Monday',\n",
       " 'MondayNight',\n",
       " 'Tuesday',\n",
       " 'TuesdayNight',\n",
       " 'Wednesday',\n",
       " 'WednesdayNight',\n",
       " 'Thursday',\n",
       " 'ThursdayNight']"
      ]
     },
     "execution_count": 141,
     "metadata": {},
     "output_type": "execute_result"
    }
   ],
   "source": [
    "period_tags = seven_day.select(\".tombstone-container .period-name\")\n",
    "periods = [pt.get_text() for pt in period_tags]\n",
    "periods"
   ]
  },
  {
   "cell_type": "code",
   "execution_count": 142,
   "id": "939fdd2b-cdfe-4776-ad13-036e56337747",
   "metadata": {},
   "outputs": [],
   "source": [
    "short_descs = [sd.get_text() for sd in seven_day.select(\".tombstone-container .short-desc\")]\n",
    "temps = [t.get_text() for t in seven_day.select(\".tombstone-container .temp\")]\n",
    "descs = [d[\"title\"] for d in seven_day.select(\".tombstone-container img\")]"
   ]
  },
  {
   "cell_type": "code",
   "execution_count": 143,
   "id": "f9cb44d0-6297-4c57-b5e0-baacbf4b0567",
   "metadata": {},
   "outputs": [
    {
     "data": {
      "text/html": [
       "<div>\n",
       "<style scoped>\n",
       "    .dataframe tbody tr th:only-of-type {\n",
       "        vertical-align: middle;\n",
       "    }\n",
       "\n",
       "    .dataframe tbody tr th {\n",
       "        vertical-align: top;\n",
       "    }\n",
       "\n",
       "    .dataframe thead th {\n",
       "        text-align: right;\n",
       "    }\n",
       "</style>\n",
       "<table border=\"1\" class=\"dataframe\">\n",
       "  <thead>\n",
       "    <tr style=\"text-align: right;\">\n",
       "      <th></th>\n",
       "      <th>period</th>\n",
       "      <th>short_descs</th>\n",
       "      <th>temp</th>\n",
       "      <th>desc</th>\n",
       "    </tr>\n",
       "  </thead>\n",
       "  <tbody>\n",
       "    <tr>\n",
       "      <th>0</th>\n",
       "      <td>Tonight</td>\n",
       "      <td>Mostly Clear</td>\n",
       "      <td>Low: 32 °F</td>\n",
       "      <td>Tonight: Mostly clear, with a low around 32. N...</td>\n",
       "    </tr>\n",
       "    <tr>\n",
       "      <th>1</th>\n",
       "      <td>Monday</td>\n",
       "      <td>IncreasingClouds</td>\n",
       "      <td>High: 48 °F</td>\n",
       "      <td>Monday: Increasing clouds, with a high near 48...</td>\n",
       "    </tr>\n",
       "    <tr>\n",
       "      <th>2</th>\n",
       "      <td>MondayNight</td>\n",
       "      <td>Partly Cloudy</td>\n",
       "      <td>Low: 29 °F</td>\n",
       "      <td>Monday Night: Partly cloudy, with a low around...</td>\n",
       "    </tr>\n",
       "    <tr>\n",
       "      <th>3</th>\n",
       "      <td>Tuesday</td>\n",
       "      <td>Slight ChanceRain thenRain</td>\n",
       "      <td>High: 46 °F</td>\n",
       "      <td>Tuesday: Rain, mainly after 10am.  High near 4...</td>\n",
       "    </tr>\n",
       "    <tr>\n",
       "      <th>4</th>\n",
       "      <td>TuesdayNight</td>\n",
       "      <td>Rain</td>\n",
       "      <td>Low: 41 °F</td>\n",
       "      <td>Tuesday Night: Rain, mainly before 4am.  Low a...</td>\n",
       "    </tr>\n",
       "    <tr>\n",
       "      <th>5</th>\n",
       "      <td>Wednesday</td>\n",
       "      <td>Partly Sunny</td>\n",
       "      <td>High: 51 °F</td>\n",
       "      <td>Wednesday: Partly sunny, with a high near 51.</td>\n",
       "    </tr>\n",
       "    <tr>\n",
       "      <th>6</th>\n",
       "      <td>WednesdayNight</td>\n",
       "      <td>Partly Cloudy</td>\n",
       "      <td>Low: 33 °F</td>\n",
       "      <td>Wednesday Night: Partly cloudy, with a low aro...</td>\n",
       "    </tr>\n",
       "    <tr>\n",
       "      <th>7</th>\n",
       "      <td>Thursday</td>\n",
       "      <td>Sunny</td>\n",
       "      <td>High: 45 °F</td>\n",
       "      <td>Thursday: Sunny, with a high near 45.</td>\n",
       "    </tr>\n",
       "    <tr>\n",
       "      <th>8</th>\n",
       "      <td>ThursdayNight</td>\n",
       "      <td>Mostly Clear</td>\n",
       "      <td>Low: 28 °F</td>\n",
       "      <td>Thursday Night: Mostly clear, with a low aroun...</td>\n",
       "    </tr>\n",
       "  </tbody>\n",
       "</table>\n",
       "</div>"
      ],
      "text/plain": [
       "           period                 short_descs         temp  \\\n",
       "0         Tonight                Mostly Clear   Low: 32 °F   \n",
       "1          Monday            IncreasingClouds  High: 48 °F   \n",
       "2     MondayNight               Partly Cloudy   Low: 29 °F   \n",
       "3         Tuesday  Slight ChanceRain thenRain  High: 46 °F   \n",
       "4    TuesdayNight                        Rain   Low: 41 °F   \n",
       "5       Wednesday                Partly Sunny  High: 51 °F   \n",
       "6  WednesdayNight               Partly Cloudy   Low: 33 °F   \n",
       "7        Thursday                       Sunny  High: 45 °F   \n",
       "8   ThursdayNight                Mostly Clear   Low: 28 °F   \n",
       "\n",
       "                                                desc  \n",
       "0  Tonight: Mostly clear, with a low around 32. N...  \n",
       "1  Monday: Increasing clouds, with a high near 48...  \n",
       "2  Monday Night: Partly cloudy, with a low around...  \n",
       "3  Tuesday: Rain, mainly after 10am.  High near 4...  \n",
       "4  Tuesday Night: Rain, mainly before 4am.  Low a...  \n",
       "5      Wednesday: Partly sunny, with a high near 51.  \n",
       "6  Wednesday Night: Partly cloudy, with a low aro...  \n",
       "7              Thursday: Sunny, with a high near 45.  \n",
       "8  Thursday Night: Mostly clear, with a low aroun...  "
      ]
     },
     "execution_count": 143,
     "metadata": {},
     "output_type": "execute_result"
    }
   ],
   "source": [
    "weather = pd.DataFrame({\n",
    "    \"period\": periods, \n",
    "    \"short_descs\": short_descs,\n",
    "    \"temp\": temps,\n",
    "    \"desc\": descs\n",
    "})\n",
    "weather"
   ]
  },
  {
   "cell_type": "code",
   "execution_count": 144,
   "id": "eab268c1-05f9-4462-8f20-41963c01f298",
   "metadata": {},
   "outputs": [
    {
     "data": {
      "text/plain": [
       "{'Humidity': '47%',\n",
       " 'Wind Speed': 'NW 10 mph',\n",
       " 'Barometer': '30.21 in (1023.3 mb)',\n",
       " 'Dewpoint': '23°F (-5°C)',\n",
       " 'Visibility': '10.00 mi',\n",
       " 'Wind Chill': '36°F (2°C)',\n",
       " 'Last update': '\\n                13 Nov 7:55 pm EST            '}"
      ]
     },
     "execution_count": 144,
     "metadata": {},
     "output_type": "execute_result"
    }
   ],
   "source": [
    "current_conditions = soup.find(id = \"current_conditions_detail\")\n",
    "items = [i.get_text() for i in current_conditions.select(\"td\")]\n",
    "items ={items[i]: items[i + 1] for i in range(0, len(items), 2)}\n",
    "items"
   ]
  },
  {
   "cell_type": "code",
   "execution_count": 145,
   "id": "a3ba8f7d-2333-4494-bda1-f202cc0e7ab8",
   "metadata": {},
   "outputs": [
    {
     "data": {
      "text/plain": [
       "Humidity                        47%\n",
       "Wind Speed                NW 10 mph\n",
       "Barometer      30.21 in (1023.3 mb)\n",
       "Dewpoint                23°F (-5°C)\n",
       "Visibility                 10.00 mi\n",
       "Wind Chill               36°F (2°C)\n",
       "Last update      13 Nov 7:55 pm EST\n",
       "dtype: object"
      ]
     },
     "execution_count": 145,
     "metadata": {},
     "output_type": "execute_result"
    }
   ],
   "source": [
    "conditions = pd.Series(items).str.strip(\"\\n\").str.strip()\n",
    "conditions"
   ]
  },
  {
   "cell_type": "code",
   "execution_count": 130,
   "id": "829956bb-2bce-40c6-a33f-2e60d4b648df",
   "metadata": {},
   "outputs": [],
   "source": [
    "import pymongo"
   ]
  },
  {
   "cell_type": "code",
   "execution_count": 136,
   "id": "8cde5f21-1b85-4944-8f73-94f9c5772aca",
   "metadata": {},
   "outputs": [],
   "source": [
    "myclient = pymongo.MongoClient(\"mongodb://localhost:27017/\")\n",
    "weatherDB = myclient[\"Weather\"]\n",
    "conditions = myclient[\"Conditions\"]"
   ]
  }
 ],
 "metadata": {
  "kernelspec": {
   "display_name": "Python 3 (ipykernel)",
   "language": "python",
   "name": "python3"
  },
  "language_info": {
   "codemirror_mode": {
    "name": "ipython",
    "version": 3
   },
   "file_extension": ".py",
   "mimetype": "text/x-python",
   "name": "python",
   "nbconvert_exporter": "python",
   "pygments_lexer": "ipython3",
   "version": "3.9.7"
  }
 },
 "nbformat": 4,
 "nbformat_minor": 5
}
